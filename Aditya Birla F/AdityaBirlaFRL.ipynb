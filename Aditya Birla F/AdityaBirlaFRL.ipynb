{
  "nbformat": 4,
  "nbformat_minor": 0,
  "metadata": {
    "colab": {
      "name": "PowerMechStocksPred.ipynb",
      "provenance": [],
      "collapsed_sections": []
    },
    "kernelspec": {
      "name": "python3",
      "display_name": "Python 3"
    },
    "accelerator": "TPU"
  },
  "cells": [
    {
      "cell_type": "markdown",
      "metadata": {
        "id": "UrkuG0v5QG9a",
        "colab_type": "text"
      },
      "source": [
        "IMPORTS"
      ]
    },
    {
      "cell_type": "code",
      "metadata": {
        "id": "e55AvObKgQOO",
        "colab_type": "code",
        "colab": {}
      },
      "source": [
        "#Import the libraries\n",
        "import math\n",
        "import pandas_datareader as web\n",
        "import numpy as np\n",
        "import pandas as pd\n",
        "from sklearn.preprocessing import MinMaxScaler\n",
        "from keras.models import Sequential\n",
        "from keras.layers import Dense, LSTM\n",
        "import matplotlib.pyplot as plt\n",
        "plt.style.use('fivethirtyeight')"
      ],
      "execution_count": 0,
      "outputs": []
    },
    {
      "cell_type": "code",
      "metadata": {
        "id": "C5fiskcqh35U",
        "colab_type": "code",
        "colab": {}
      },
      "source": [
        "df = pd.read_csv('535755.csv')"
      ],
      "execution_count": 0,
      "outputs": []
    },
    {
      "cell_type": "code",
      "metadata": {
        "id": "W_PlNeTni5pD",
        "colab_type": "code",
        "colab": {}
      },
      "source": [
        "df.reset_index(drop=True, inplace=True)"
      ],
      "execution_count": 0,
      "outputs": []
    },
    {
      "cell_type": "code",
      "metadata": {
        "id": "KY4XYZr3iIIS",
        "colab_type": "code",
        "outputId": "6ac20297-7338-4a59-a2f9-df8472fdb7bc",
        "colab": {
          "base_uri": "https://localhost:8080/",
          "height": 35
        }
      },
      "source": [
        "df.shape"
      ],
      "execution_count": 37,
      "outputs": [
        {
          "output_type": "execute_result",
          "data": {
            "text/plain": [
              "(1673, 13)"
            ]
          },
          "metadata": {
            "tags": []
          },
          "execution_count": 37
        }
      ]
    },
    {
      "cell_type": "code",
      "metadata": {
        "id": "5nhwZOxmjrVD",
        "colab_type": "code",
        "outputId": "0aeed605-0e10-4ee8-ff52-ec822a7071d0",
        "colab": {
          "base_uri": "https://localhost:8080/",
          "height": 427
        }
      },
      "source": [
        "df.head()"
      ],
      "execution_count": 38,
      "outputs": [
        {
          "output_type": "execute_result",
          "data": {
            "text/html": [
              "<div>\n",
              "<style scoped>\n",
              "    .dataframe tbody tr th:only-of-type {\n",
              "        vertical-align: middle;\n",
              "    }\n",
              "\n",
              "    .dataframe tbody tr th {\n",
              "        vertical-align: top;\n",
              "    }\n",
              "\n",
              "    .dataframe thead th {\n",
              "        text-align: right;\n",
              "    }\n",
              "</style>\n",
              "<table border=\"1\" class=\"dataframe\">\n",
              "  <thead>\n",
              "    <tr style=\"text-align: right;\">\n",
              "      <th></th>\n",
              "      <th>Date</th>\n",
              "      <th>Open Price</th>\n",
              "      <th>High Price</th>\n",
              "      <th>Low Price</th>\n",
              "      <th>Close Price</th>\n",
              "      <th>WAP</th>\n",
              "      <th>No.of Shares</th>\n",
              "      <th>No. of Trades</th>\n",
              "      <th>Total Turnover (Rs.)</th>\n",
              "      <th>Deliverable Quantity</th>\n",
              "      <th>% Deli. Qty to Traded Qty</th>\n",
              "      <th>Spread High-Low</th>\n",
              "      <th>Spread Close-Open</th>\n",
              "    </tr>\n",
              "  </thead>\n",
              "  <tbody>\n",
              "    <tr>\n",
              "      <th>0</th>\n",
              "      <td>30-April-2020</td>\n",
              "      <td>113.9</td>\n",
              "      <td>126.00</td>\n",
              "      <td>112.45</td>\n",
              "      <td>115.70</td>\n",
              "      <td>119.708482</td>\n",
              "      <td>254801</td>\n",
              "      <td>6988</td>\n",
              "      <td>30501841.0</td>\n",
              "      <td>97979.0</td>\n",
              "      <td>38.45</td>\n",
              "      <td>13.55</td>\n",
              "      <td>1.80</td>\n",
              "    </tr>\n",
              "    <tr>\n",
              "      <th>1</th>\n",
              "      <td>29-April-2020</td>\n",
              "      <td>116.0</td>\n",
              "      <td>116.00</td>\n",
              "      <td>111.50</td>\n",
              "      <td>112.10</td>\n",
              "      <td>112.073365</td>\n",
              "      <td>310228</td>\n",
              "      <td>3326</td>\n",
              "      <td>34768296.0</td>\n",
              "      <td>40577.0</td>\n",
              "      <td>13.08</td>\n",
              "      <td>4.50</td>\n",
              "      <td>-3.90</td>\n",
              "    </tr>\n",
              "    <tr>\n",
              "      <th>2</th>\n",
              "      <td>28-April-2020</td>\n",
              "      <td>117.5</td>\n",
              "      <td>117.50</td>\n",
              "      <td>114.60</td>\n",
              "      <td>115.30</td>\n",
              "      <td>115.856379</td>\n",
              "      <td>30866</td>\n",
              "      <td>1114</td>\n",
              "      <td>3576023.0</td>\n",
              "      <td>15367.0</td>\n",
              "      <td>49.79</td>\n",
              "      <td>2.90</td>\n",
              "      <td>-2.20</td>\n",
              "    </tr>\n",
              "    <tr>\n",
              "      <th>3</th>\n",
              "      <td>27-April-2020</td>\n",
              "      <td>123.0</td>\n",
              "      <td>123.25</td>\n",
              "      <td>98.00</td>\n",
              "      <td>115.85</td>\n",
              "      <td>116.715608</td>\n",
              "      <td>54228</td>\n",
              "      <td>3528</td>\n",
              "      <td>6329254.0</td>\n",
              "      <td>21492.0</td>\n",
              "      <td>39.63</td>\n",
              "      <td>25.25</td>\n",
              "      <td>-7.15</td>\n",
              "    </tr>\n",
              "    <tr>\n",
              "      <th>4</th>\n",
              "      <td>24-April-2020</td>\n",
              "      <td>124.6</td>\n",
              "      <td>131.00</td>\n",
              "      <td>119.25</td>\n",
              "      <td>122.30</td>\n",
              "      <td>122.622927</td>\n",
              "      <td>52995</td>\n",
              "      <td>1314</td>\n",
              "      <td>6498402.0</td>\n",
              "      <td>21009.0</td>\n",
              "      <td>39.64</td>\n",
              "      <td>11.75</td>\n",
              "      <td>-2.30</td>\n",
              "    </tr>\n",
              "  </tbody>\n",
              "</table>\n",
              "</div>"
            ],
            "text/plain": [
              "            Date  Open Price  ...  Spread High-Low  Spread Close-Open\n",
              "0  30-April-2020       113.9  ...            13.55               1.80\n",
              "1  29-April-2020       116.0  ...             4.50              -3.90\n",
              "2  28-April-2020       117.5  ...             2.90              -2.20\n",
              "3  27-April-2020       123.0  ...            25.25              -7.15\n",
              "4  24-April-2020       124.6  ...            11.75              -2.30\n",
              "\n",
              "[5 rows x 13 columns]"
            ]
          },
          "metadata": {
            "tags": []
          },
          "execution_count": 38
        }
      ]
    },
    {
      "cell_type": "code",
      "metadata": {
        "id": "Wh-GnSi5iT31",
        "colab_type": "code",
        "outputId": "820874a7-5dcc-43b0-b475-20c5dede1438",
        "colab": {
          "base_uri": "https://localhost:8080/",
          "height": 483
        }
      },
      "source": [
        "#Visualize the features\n",
        "plt.figure(figsize=(16,8))\n",
        "plt.title('Close Price')\n",
        "plt.scatter(df['Date'], df['Close Price'])\n",
        "plt.plot(df['Date'], df['Close Price'])\n",
        "\n",
        "plt.xlabel('Date',fontsize=18)\n",
        "plt.ylabel('Close Price',fontsize=18)\n",
        "plt.show()"
      ],
      "execution_count": 39,
      "outputs": [
        {
          "output_type": "display_data",
          "data": {
            "image/png": "[encoded data removed]",
            "text/plain": [
              "<Figure size 1152x576 with 1 Axes>"
            ]
          },
          "metadata": {
            "tags": []
          }
        }
      ]
    },
    {
      "cell_type": "markdown",
      "metadata": {
        "id": "cCe2jy2iQOMZ",
        "colab_type": "text"
      },
      "source": [
        "Feature Engineering"
      ]
    },
    {
      "cell_type": "code",
      "metadata": {
        "id": "s7KemH23j3_2",
        "colab_type": "code",
        "colab": {}
      },
      "source": [
        "#Create a new dataframe with only the 'feature' column\n",
        "data = df.filter(['Close Price'])\n",
        "#Converting the dataframe to a numpy array\n",
        "dataset = data.values\n",
        "#Get /Compute the number of rows to train the model on\n",
        "training_data_len = math.ceil( len(dataset) *.8)"
      ],
      "execution_count": 0,
      "outputs": []
    },
    {
      "cell_type": "code",
      "metadata": {
        "id": "bmx1Qu2epVTR",
        "colab_type": "code",
        "outputId": "ac05e40d-8697-4ee2-b262-d6ef353b2a56",
        "colab": {
          "base_uri": "https://localhost:8080/",
          "height": 35
        }
      },
      "source": [
        "training_data_len"
      ],
      "execution_count": 41,
      "outputs": [
        {
          "output_type": "execute_result",
          "data": {
            "text/plain": [
              "1339"
            ]
          },
          "metadata": {
            "tags": []
          },
          "execution_count": 41
        }
      ]
    },
    {
      "cell_type": "code",
      "metadata": {
        "id": "hRiOf3uum4jc",
        "colab_type": "code",
        "colab": {}
      },
      "source": [
        "#Scale the all of the data to be values between 0 and 1 \n",
        "scaler = MinMaxScaler(feature_range=(0, 1)) \n",
        "scaled_data = scaler.fit_transform(dataset)\n"
      ],
      "execution_count": 0,
      "outputs": []
    },
    {
      "cell_type": "code",
      "metadata": {
        "id": "6mg1v0apm8Dd",
        "colab_type": "code",
        "outputId": "217b2352-a5dc-4d17-e5fb-098137a6ff89",
        "colab": {
          "base_uri": "https://localhost:8080/",
          "height": 35
        }
      },
      "source": [
        "len(scaled_data)"
      ],
      "execution_count": 43,
      "outputs": [
        {
          "output_type": "execute_result",
          "data": {
            "text/plain": [
              "1673"
            ]
          },
          "metadata": {
            "tags": []
          },
          "execution_count": 43
        }
      ]
    },
    {
      "cell_type": "markdown",
      "metadata": {
        "id": "u61TKNL9QVmm",
        "colab_type": "text"
      },
      "source": [
        "Train and Test Split"
      ]
    },
    {
      "cell_type": "code",
      "metadata": {
        "id": "_v8ufSahm9RA",
        "colab_type": "code",
        "outputId": "3cb884e1-f700-451d-cd7a-10eb32cdae8e",
        "colab": {
          "base_uri": "https://localhost:8080/",
          "height": 35
        }
      },
      "source": [
        "#Create the scaled training data set \n",
        "train_data = scaled_data[0:training_data_len  , : ]\n",
        "len(train_data)"
      ],
      "execution_count": 44,
      "outputs": [
        {
          "output_type": "execute_result",
          "data": {
            "text/plain": [
              "1339"
            ]
          },
          "metadata": {
            "tags": []
          },
          "execution_count": 44
        }
      ]
    },
    {
      "cell_type": "code",
      "metadata": {
        "id": "6rZFrrBXqzjB",
        "colab_type": "code",
        "colab": {}
      },
      "source": [
        "#Split the data into x_train and y_train data sets\n",
        "x_train=[]\n",
        "y_train = []\n",
        "for i in range(5, len(train_data)):\n",
        "    x_train.append(train_data[i-5:i,0])\n",
        "    y_train.append(train_data[i,0])"
      ],
      "execution_count": 0,
      "outputs": []
    },
    {
      "cell_type": "code",
      "metadata": {
        "id": "oVO8C5csvHoG",
        "colab_type": "code",
        "colab": {}
      },
      "source": [
        "#Convert x_train and y_train to numpy arrays\n",
        "x_train, y_train = np.array(x_train), np.array(y_train)"
      ],
      "execution_count": 0,
      "outputs": []
    },
    {
      "cell_type": "code",
      "metadata": {
        "id": "vBVAkhp8vMNg",
        "colab_type": "code",
        "colab": {}
      },
      "source": [
        "#Reshape the data into the shape accepted by the LSTM\n",
        "x_train = np.reshape(x_train, (x_train.shape[0],x_train.shape[1],1))"
      ],
      "execution_count": 0,
      "outputs": []
    },
    {
      "cell_type": "markdown",
      "metadata": {
        "id": "cd-vcMCTQZbr",
        "colab_type": "text"
      },
      "source": [
        "Build the Architecture"
      ]
    },
    {
      "cell_type": "code",
      "metadata": {
        "id": "KTxE0Aowvcfp",
        "colab_type": "code",
        "colab": {}
      },
      "source": [
        "#Build the LSTM network model\n",
        "model = Sequential()\n",
        "model.add(LSTM(units=50, return_sequences=True,input_shape=(x_train.shape[1],1)))\n",
        "model.add(LSTM(units=50, return_sequences=False))\n",
        "model.add(Dense(units=25))\n",
        "model.add(Dense(units=1))\n",
        "\n",
        "#Compile the model\n",
        "model.compile(optimizer='adam', loss='mean_squared_error')"
      ],
      "execution_count": 0,
      "outputs": []
    },
    {
      "cell_type": "code",
      "metadata": {
        "id": "3xS3JzhJvep2",
        "colab_type": "code",
        "colab": {}
      },
      "source": [
        "# from keras.layers import Dropout\n",
        "\n",
        "# # Initialising the RNN\n",
        "# model = Sequential()\n",
        "# model.add(LSTM(units = 50, return_sequences = True, input_shape = (x_train.shape[1], 1)))\n",
        "# #model.add(Dropout(0.2))\n",
        "# # Adding a second LSTM layer and some Dropout regularisation\n",
        "# model.add(LSTM(units = 50, return_sequences = False))\n",
        "# #model.add(Dropout(0.2))\n",
        "# # Adding a third LSTM layer and some Dropout regularisation\n",
        "# # model.add(LSTM(units = 50, return_sequences = True))\n",
        "# # model.add(Dropout(0.2))\n",
        "# # Adding a fourth LSTM layer and some Dropout regularisation\n",
        "# model.add(LSTM(units = 50))\n",
        "# #model.add(Dropout(0.2))\n",
        "# # Adding the output layer\n",
        "# # For Full connection layer we use dense\n",
        "# # As the output is 1D so we use unit=1\n",
        "# model.add(Dense(units = 25))\n",
        "# # Compiling the RNN\n",
        "# # For optimizer we can go through keras optimizers Docomentation\n",
        "# # As it is regression problem so we use mean squared error\n",
        "# model.compile(optimizer = 'adam', loss = 'mean_squared_error')\n"
      ],
      "execution_count": 0,
      "outputs": []
    },
    {
      "cell_type": "markdown",
      "metadata": {
        "id": "CQBxOxkBQgXp",
        "colab_type": "text"
      },
      "source": [
        "Train The Model"
      ]
    },
    {
      "cell_type": "code",
      "metadata": {
        "id": "m3VOCGKgvjyB",
        "colab_type": "code",
        "outputId": "6da95cda-f67e-46a8-bd98-b93e1e232679",
        "colab": {
          "base_uri": "https://localhost:8080/",
          "height": 1000
        }
      },
      "source": [
        "#Train the model\n",
        "model.fit(x_train, y_train, batch_size=50, epochs=100)"
      ],
      "execution_count": 49,
      "outputs": [
        {
          "output_type": "stream",
          "text": [
            "Epoch 1/100\n",
            "1334/1334 [==============================] - 1s 692us/step - loss: 0.0678\n",
            "Epoch 2/100\n",
            "1334/1334 [==============================] - 0s 176us/step - loss: 0.0077\n",
            "Epoch 3/100\n",
            "1334/1334 [==============================] - 0s 180us/step - loss: 0.0034\n",
            "Epoch 4/100\n",
            "1334/1334 [==============================] - 0s 180us/step - loss: 0.0018\n",
            "Epoch 5/100\n",
            "1334/1334 [==============================] - 0s 180us/step - loss: 0.0016\n",
            "Epoch 6/100\n",
            "1334/1334 [==============================] - 0s 180us/step - loss: 0.0015\n",
            "Epoch 7/100\n",
            "1334/1334 [==============================] - 0s 169us/step - loss: 0.0016\n",
            "Epoch 8/100\n",
            "1334/1334 [==============================] - 0s 168us/step - loss: 0.0015\n",
            "Epoch 9/100\n",
            "1334/1334 [==============================] - 0s 177us/step - loss: 0.0016\n",
            "Epoch 10/100\n",
            "1334/1334 [==============================] - 0s 172us/step - loss: 0.0015\n",
            "Epoch 11/100\n",
            "1334/1334 [==============================] - 0s 186us/step - loss: 0.0015\n",
            "Epoch 12/100\n",
            "1334/1334 [==============================] - 0s 167us/step - loss: 0.0015\n",
            "Epoch 13/100\n",
            "1334/1334 [==============================] - 0s 183us/step - loss: 0.0015\n",
            "Epoch 14/100\n",
            "1334/1334 [==============================] - 0s 175us/step - loss: 0.0015\n",
            "Epoch 15/100\n",
            "1334/1334 [==============================] - 0s 178us/step - loss: 0.0015\n",
            "Epoch 16/100\n",
            "1334/1334 [==============================] - 0s 192us/step - loss: 0.0015\n",
            "Epoch 17/100\n",
            "1334/1334 [==============================] - 0s 178us/step - loss: 0.0015\n",
            "Epoch 18/100\n",
            "1334/1334 [==============================] - 0s 188us/step - loss: 0.0015\n",
            "Epoch 19/100\n",
            "1334/1334 [==============================] - 0s 180us/step - loss: 0.0015\n",
            "Epoch 20/100\n",
            "1334/1334 [==============================] - 0s 188us/step - loss: 0.0015\n",
            "Epoch 21/100\n",
            "1334/1334 [==============================] - 0s 182us/step - loss: 0.0014\n",
            "Epoch 22/100\n",
            "1334/1334 [==============================] - 0s 194us/step - loss: 0.0014\n",
            "Epoch 23/100\n",
            "1334/1334 [==============================] - 0s 186us/step - loss: 0.0014\n",
            "Epoch 24/100\n",
            "1334/1334 [==============================] - 0s 179us/step - loss: 0.0015\n",
            "Epoch 25/100\n",
            "1334/1334 [==============================] - 0s 181us/step - loss: 0.0014\n",
            "Epoch 26/100\n",
            "1334/1334 [==============================] - 0s 184us/step - loss: 0.0014\n",
            "Epoch 27/100\n",
            "1334/1334 [==============================] - 0s 189us/step - loss: 0.0014\n",
            "Epoch 28/100\n",
            "1334/1334 [==============================] - 0s 176us/step - loss: 0.0014\n",
            "Epoch 29/100\n",
            "1334/1334 [==============================] - 0s 185us/step - loss: 0.0014\n",
            "Epoch 30/100\n",
            "1334/1334 [==============================] - 0s 183us/step - loss: 0.0014\n",
            "Epoch 31/100\n",
            "1334/1334 [==============================] - 0s 183us/step - loss: 0.0013\n",
            "Epoch 32/100\n",
            "1334/1334 [==============================] - 0s 184us/step - loss: 0.0013\n",
            "Epoch 33/100\n",
            "1334/1334 [==============================] - 0s 184us/step - loss: 0.0013\n",
            "Epoch 34/100\n",
            "1334/1334 [==============================] - 0s 188us/step - loss: 0.0012\n",
            "Epoch 35/100\n",
            "1334/1334 [==============================] - 0s 185us/step - loss: 0.0013\n",
            "Epoch 36/100\n",
            "1334/1334 [==============================] - 0s 186us/step - loss: 0.0013\n",
            "Epoch 37/100\n",
            "1334/1334 [==============================] - 0s 182us/step - loss: 0.0013\n",
            "Epoch 38/100\n",
            "1334/1334 [==============================] - 0s 194us/step - loss: 0.0012\n",
            "Epoch 39/100\n",
            "1334/1334 [==============================] - 0s 182us/step - loss: 0.0012\n",
            "Epoch 40/100\n",
            "1334/1334 [==============================] - 0s 182us/step - loss: 0.0012\n",
            "Epoch 41/100\n",
            "1334/1334 [==============================] - 0s 179us/step - loss: 0.0012\n",
            "Epoch 42/100\n",
            "1334/1334 [==============================] - 0s 187us/step - loss: 0.0011\n",
            "Epoch 43/100\n",
            "1334/1334 [==============================] - 0s 192us/step - loss: 0.0011\n",
            "Epoch 44/100\n",
            "1334/1334 [==============================] - 0s 187us/step - loss: 0.0011\n",
            "Epoch 45/100\n",
            "1334/1334 [==============================] - 0s 185us/step - loss: 0.0010\n",
            "Epoch 46/100\n",
            "1334/1334 [==============================] - 0s 182us/step - loss: 9.8625e-04\n",
            "Epoch 47/100\n",
            "1334/1334 [==============================] - 0s 180us/step - loss: 9.9402e-04\n",
            "Epoch 48/100\n",
            "1334/1334 [==============================] - 0s 168us/step - loss: 9.7234e-04\n",
            "Epoch 49/100\n",
            "1334/1334 [==============================] - 0s 168us/step - loss: 9.1570e-04\n",
            "Epoch 50/100\n",
            "1334/1334 [==============================] - 0s 169us/step - loss: 8.9338e-04\n",
            "Epoch 51/100\n",
            "1334/1334 [==============================] - 0s 181us/step - loss: 9.5925e-04\n",
            "Epoch 52/100\n",
            "1334/1334 [==============================] - 0s 175us/step - loss: 9.0670e-04\n",
            "Epoch 53/100\n",
            "1334/1334 [==============================] - 0s 166us/step - loss: 0.0010\n",
            "Epoch 54/100\n",
            "1334/1334 [==============================] - 0s 183us/step - loss: 9.0213e-04\n",
            "Epoch 55/100\n",
            "1334/1334 [==============================] - 0s 178us/step - loss: 8.4121e-04\n",
            "Epoch 56/100\n",
            "1334/1334 [==============================] - 0s 177us/step - loss: 8.3627e-04\n",
            "Epoch 57/100\n",
            "1334/1334 [==============================] - 0s 177us/step - loss: 8.2418e-04\n",
            "Epoch 58/100\n",
            "1334/1334 [==============================] - 0s 167us/step - loss: 7.9162e-04\n",
            "Epoch 59/100\n",
            "1334/1334 [==============================] - 0s 189us/step - loss: 0.0010\n",
            "Epoch 60/100\n",
            "1334/1334 [==============================] - 0s 178us/step - loss: 7.6741e-04\n",
            "Epoch 61/100\n",
            "1334/1334 [==============================] - 0s 165us/step - loss: 7.1869e-04\n",
            "Epoch 62/100\n",
            "1334/1334 [==============================] - 0s 167us/step - loss: 7.2687e-04\n",
            "Epoch 63/100\n",
            "1334/1334 [==============================] - 0s 165us/step - loss: 7.0468e-04\n",
            "Epoch 64/100\n",
            "1334/1334 [==============================] - 0s 173us/step - loss: 7.8658e-04\n",
            "Epoch 65/100\n",
            "1334/1334 [==============================] - 0s 167us/step - loss: 8.1202e-04\n",
            "Epoch 66/100\n",
            "1334/1334 [==============================] - 0s 168us/step - loss: 6.9480e-04\n",
            "Epoch 67/100\n",
            "1334/1334 [==============================] - 0s 162us/step - loss: 6.8510e-04\n",
            "Epoch 68/100\n",
            "1334/1334 [==============================] - 0s 170us/step - loss: 6.9591e-04\n",
            "Epoch 69/100\n",
            "1334/1334 [==============================] - 0s 163us/step - loss: 7.2716e-04\n",
            "Epoch 70/100\n",
            "1334/1334 [==============================] - 0s 158us/step - loss: 6.8992e-04\n",
            "Epoch 71/100\n",
            "1334/1334 [==============================] - 0s 164us/step - loss: 6.8280e-04\n",
            "Epoch 72/100\n",
            "1334/1334 [==============================] - 0s 163us/step - loss: 6.9691e-04\n",
            "Epoch 73/100\n",
            "1334/1334 [==============================] - 0s 179us/step - loss: 6.7276e-04\n",
            "Epoch 74/100\n",
            "1334/1334 [==============================] - 0s 174us/step - loss: 6.5909e-04\n",
            "Epoch 75/100\n",
            "1334/1334 [==============================] - 0s 171us/step - loss: 6.5088e-04\n",
            "Epoch 76/100\n",
            "1334/1334 [==============================] - 0s 165us/step - loss: 7.3711e-04\n",
            "Epoch 77/100\n",
            "1334/1334 [==============================] - 0s 174us/step - loss: 7.4004e-04\n",
            "Epoch 78/100\n",
            "1334/1334 [==============================] - 0s 164us/step - loss: 6.3340e-04\n",
            "Epoch 79/100\n",
            "1334/1334 [==============================] - 0s 170us/step - loss: 6.9056e-04\n",
            "Epoch 80/100\n",
            "1334/1334 [==============================] - 0s 171us/step - loss: 6.2198e-04\n",
            "Epoch 81/100\n",
            "1334/1334 [==============================] - 0s 171us/step - loss: 6.3226e-04\n",
            "Epoch 82/100\n",
            "1334/1334 [==============================] - 0s 177us/step - loss: 6.3496e-04\n",
            "Epoch 83/100\n",
            "1334/1334 [==============================] - 0s 165us/step - loss: 5.9009e-04\n",
            "Epoch 84/100\n",
            "1334/1334 [==============================] - 0s 168us/step - loss: 5.9914e-04\n",
            "Epoch 85/100\n",
            "1334/1334 [==============================] - 0s 163us/step - loss: 6.3401e-04\n",
            "Epoch 86/100\n",
            "1334/1334 [==============================] - 0s 180us/step - loss: 6.4595e-04\n",
            "Epoch 87/100\n",
            "1334/1334 [==============================] - 0s 165us/step - loss: 5.9484e-04\n",
            "Epoch 88/100\n",
            "1334/1334 [==============================] - 0s 166us/step - loss: 6.7012e-04\n",
            "Epoch 89/100\n",
            "1334/1334 [==============================] - 0s 165us/step - loss: 6.3821e-04\n",
            "Epoch 90/100\n",
            "1334/1334 [==============================] - 0s 170us/step - loss: 6.8058e-04\n",
            "Epoch 91/100\n",
            "1334/1334 [==============================] - 0s 180us/step - loss: 6.1627e-04\n",
            "Epoch 92/100\n",
            "1334/1334 [==============================] - 0s 166us/step - loss: 5.9252e-04\n",
            "Epoch 93/100\n",
            "1334/1334 [==============================] - 0s 167us/step - loss: 5.7499e-04\n",
            "Epoch 94/100\n",
            "1334/1334 [==============================] - 0s 164us/step - loss: 6.0863e-04\n",
            "Epoch 95/100\n",
            "1334/1334 [==============================] - 0s 175us/step - loss: 6.2382e-04\n",
            "Epoch 96/100\n",
            "1334/1334 [==============================] - 0s 167us/step - loss: 5.8474e-04\n",
            "Epoch 97/100\n",
            "1334/1334 [==============================] - 0s 166us/step - loss: 5.7782e-04\n",
            "Epoch 98/100\n",
            "1334/1334 [==============================] - 0s 162us/step - loss: 5.9455e-04\n",
            "Epoch 99/100\n",
            "1334/1334 [==============================] - 0s 175us/step - loss: 6.2792e-04\n",
            "Epoch 100/100\n",
            "1334/1334 [==============================] - 0s 170us/step - loss: 6.3531e-04\n"
          ],
          "name": "stdout"
        },
        {
          "output_type": "execute_result",
          "data": {
            "text/plain": [
              "<keras.callbacks.callbacks.History at 0x7fb2a41b8c88>"
            ]
          },
          "metadata": {
            "tags": []
          },
          "execution_count": 49
        }
      ]
    },
    {
      "cell_type": "markdown",
      "metadata": {
        "id": "r-XPuHXXQkxc",
        "colab_type": "text"
      },
      "source": [
        "Testing Dataset "
      ]
    },
    {
      "cell_type": "code",
      "metadata": {
        "id": "9YXpwflAvlc9",
        "colab_type": "code",
        "outputId": "db41ecba-9e8e-47ab-c701-f883cffad2f4",
        "colab": {
          "base_uri": "https://localhost:8080/",
          "height": 35
        }
      },
      "source": [
        "#Test data set\n",
        "test_data = scaled_data[training_data_len - 5: , : ]\n",
        "len(test_data)"
      ],
      "execution_count": 50,
      "outputs": [
        {
          "output_type": "execute_result",
          "data": {
            "text/plain": [
              "339"
            ]
          },
          "metadata": {
            "tags": []
          },
          "execution_count": 50
        }
      ]
    },
    {
      "cell_type": "code",
      "metadata": {
        "id": "yF98KjtAxAiM",
        "colab_type": "code",
        "colab": {}
      },
      "source": [
        "#Create the x_test and y_test data sets\n",
        "x_test = []\n",
        "y_test =  dataset[training_data_len : , : ] #Get all of the rows from index 1603 to the rest and all of the columns (in this case it's only column 'Close'), so 2003 - 1603 = 400 rows of data\n",
        "for i in range(5,len(test_data)):\n",
        "    x_test.append(test_data[i-5:i,0])"
      ],
      "execution_count": 0,
      "outputs": []
    },
    {
      "cell_type": "code",
      "metadata": {
        "id": "j2lH0qLxxrF0",
        "colab_type": "code",
        "colab": {}
      },
      "source": [
        "# x_test"
      ],
      "execution_count": 0,
      "outputs": []
    },
    {
      "cell_type": "code",
      "metadata": {
        "id": "nb3ya4mBx5RW",
        "colab_type": "code",
        "colab": {}
      },
      "source": [
        "# y_test"
      ],
      "execution_count": 0,
      "outputs": []
    },
    {
      "cell_type": "code",
      "metadata": {
        "id": "3iYWAraIx6mt",
        "colab_type": "code",
        "outputId": "1f7ec6a5-241b-41d5-febc-257b3cc33531",
        "colab": {
          "base_uri": "https://localhost:8080/",
          "height": 35
        }
      },
      "source": [
        "len(x_test)"
      ],
      "execution_count": 54,
      "outputs": [
        {
          "output_type": "execute_result",
          "data": {
            "text/plain": [
              "334"
            ]
          },
          "metadata": {
            "tags": []
          },
          "execution_count": 54
        }
      ]
    },
    {
      "cell_type": "code",
      "metadata": {
        "id": "uHBGKHWFx8g9",
        "colab_type": "code",
        "outputId": "1a968d99-639b-4d85-8480-c6dc5b120ffd",
        "colab": {
          "base_uri": "https://localhost:8080/",
          "height": 35
        }
      },
      "source": [
        "len(y_test)"
      ],
      "execution_count": 55,
      "outputs": [
        {
          "output_type": "execute_result",
          "data": {
            "text/plain": [
              "334"
            ]
          },
          "metadata": {
            "tags": []
          },
          "execution_count": 55
        }
      ]
    },
    {
      "cell_type": "code",
      "metadata": {
        "id": "6FD16FSqyU3a",
        "colab_type": "code",
        "colab": {}
      },
      "source": [
        "#Convert x_test to a numpy array \n",
        "x_test = np.array(x_test)"
      ],
      "execution_count": 0,
      "outputs": []
    },
    {
      "cell_type": "code",
      "metadata": {
        "id": "NQtqmNUEx_lH",
        "colab_type": "code",
        "colab": {}
      },
      "source": [
        "#Reshape the data into the shape accepted by the LSTM\n",
        "x_test = np.reshape(x_test, (x_test.shape[0],x_test.shape[1],1))"
      ],
      "execution_count": 0,
      "outputs": []
    },
    {
      "cell_type": "markdown",
      "metadata": {
        "id": "gjOrU8hYQoyI",
        "colab_type": "text"
      },
      "source": [
        "Make Predictions"
      ]
    },
    {
      "cell_type": "code",
      "metadata": {
        "id": "Wbhdf0uXyEAH",
        "colab_type": "code",
        "colab": {}
      },
      "source": [
        "#Getting the models predicted price values\n",
        "predictions = model.predict(x_test) \n",
        "predictions = scaler.inverse_transform(predictions)#Undo scaling"
      ],
      "execution_count": 0,
      "outputs": []
    },
    {
      "cell_type": "markdown",
      "metadata": {
        "id": "CpRYmBuCQq8U",
        "colab_type": "text"
      },
      "source": [
        "Calculate RMSE"
      ]
    },
    {
      "cell_type": "code",
      "metadata": {
        "id": "eAw0EZf4yF2-",
        "colab_type": "code",
        "outputId": "9a98c99e-5e17-4f55-ee7d-edc3f8079db4",
        "colab": {
          "base_uri": "https://localhost:8080/",
          "height": 35
        }
      },
      "source": [
        "#Calculate/Get the value of RMSE\n",
        "rmse=np.sqrt(np.mean(((predictions- y_test)**2)))\n",
        "rmse"
      ],
      "execution_count": 59,
      "outputs": [
        {
          "output_type": "execute_result",
          "data": {
            "text/plain": [
              "3.678231361812374"
            ]
          },
          "metadata": {
            "tags": []
          },
          "execution_count": 59
        }
      ]
    },
    {
      "cell_type": "markdown",
      "metadata": {
        "id": "EPhgLIRkQtv4",
        "colab_type": "text"
      },
      "source": [
        "Visualizations of Results"
      ]
    },
    {
      "cell_type": "code",
      "metadata": {
        "id": "7to1DdthydDK",
        "colab_type": "code",
        "outputId": "fc0dbba5-a066-4289-be02-352fe2a66e3e",
        "colab": {
          "base_uri": "https://localhost:8080/",
          "height": 602
        }
      },
      "source": [
        "#Plot/Create the data for the graph\n",
        "train = data[:training_data_len]\n",
        "valid = data[training_data_len:]\n",
        "valid['Predictions'] = predictions\n",
        "\n",
        "#Visualize the data\n",
        "plt.figure(figsize=(16,8))\n",
        "plt.title('Model')\n",
        "plt.xlabel('Date', fontsize=18)\n",
        "plt.ylabel('Close Price', fontsize=18)\n",
        "plt.plot(train['Close Price'])\n",
        "plt.plot(valid[['Close Price', 'Predictions']])\n",
        "plt.legend(['Train', 'Val', 'Predictions'], loc='lower right')\n",
        "plt.show()"
      ],
      "execution_count": 60,
      "outputs": [
        {
          "output_type": "stream",
          "text": [
            "/usr/local/lib/python3.6/dist-packages/ipykernel_launcher.py:3: SettingWithCopyWarning: \n",
            "A value is trying to be set on a copy of a slice from a DataFrame.\n",
            "Try using .loc[row_indexer,col_indexer] = value instead\n",
            "\n",
            "See the caveats in the documentation: https://pandas.pydata.org/pandas-docs/stable/user_guide/indexing.html#returning-a-view-versus-a-copy\n",
            "  This is separate from the ipykernel package so we can avoid doing imports until\n"
          ],
          "name": "stderr"
        },
        {
          "output_type": "display_data",
          "data": {
            "image/png": "[encoded data removed]",
            "text/plain": [
              "<Figure size 1152x576 with 1 Axes>"
            ]
          },
          "metadata": {
            "tags": []
          }
        }
      ]
    },
    {
      "cell_type": "code",
      "metadata": {
        "id": "FF9ByL2HysmN",
        "colab_type": "code",
        "outputId": "3bd13467-ff96-4d66-8566-79597c8ba71b",
        "colab": {
          "base_uri": "https://localhost:8080/",
          "height": 355
        }
      },
      "source": [
        "#Show the valid and predicted prices\n",
        "valid[:10]"
      ],
      "execution_count": 64,
      "outputs": [
        {
          "output_type": "execute_result",
          "data": {
            "text/html": [
              "<div>\n",
              "<style scoped>\n",
              "    .dataframe tbody tr th:only-of-type {\n",
              "        vertical-align: middle;\n",
              "    }\n",
              "\n",
              "    .dataframe tbody tr th {\n",
              "        vertical-align: top;\n",
              "    }\n",
              "\n",
              "    .dataframe thead th {\n",
              "        text-align: right;\n",
              "    }\n",
              "</style>\n",
              "<table border=\"1\" class=\"dataframe\">\n",
              "  <thead>\n",
              "    <tr style=\"text-align: right;\">\n",
              "      <th></th>\n",
              "      <th>Close Price</th>\n",
              "      <th>Predictions</th>\n",
              "    </tr>\n",
              "  </thead>\n",
              "  <tbody>\n",
              "    <tr>\n",
              "      <th>1339</th>\n",
              "      <td>117.95</td>\n",
              "      <td>117.517181</td>\n",
              "    </tr>\n",
              "    <tr>\n",
              "      <th>1340</th>\n",
              "      <td>116.30</td>\n",
              "      <td>117.811729</td>\n",
              "    </tr>\n",
              "    <tr>\n",
              "      <th>1341</th>\n",
              "      <td>116.65</td>\n",
              "      <td>117.308319</td>\n",
              "    </tr>\n",
              "    <tr>\n",
              "      <th>1342</th>\n",
              "      <td>116.30</td>\n",
              "      <td>117.277840</td>\n",
              "    </tr>\n",
              "    <tr>\n",
              "      <th>1343</th>\n",
              "      <td>119.45</td>\n",
              "      <td>117.119591</td>\n",
              "    </tr>\n",
              "    <tr>\n",
              "      <th>1344</th>\n",
              "      <td>119.60</td>\n",
              "      <td>118.834824</td>\n",
              "    </tr>\n",
              "    <tr>\n",
              "      <th>1345</th>\n",
              "      <td>120.90</td>\n",
              "      <td>119.948387</td>\n",
              "    </tr>\n",
              "    <tr>\n",
              "      <th>1346</th>\n",
              "      <td>120.80</td>\n",
              "      <td>121.081917</td>\n",
              "    </tr>\n",
              "    <tr>\n",
              "      <th>1347</th>\n",
              "      <td>120.90</td>\n",
              "      <td>121.460579</td>\n",
              "    </tr>\n",
              "    <tr>\n",
              "      <th>1348</th>\n",
              "      <td>121.50</td>\n",
              "      <td>121.520714</td>\n",
              "    </tr>\n",
              "  </tbody>\n",
              "</table>\n",
              "</div>"
            ],
            "text/plain": [
              "      Close Price  Predictions\n",
              "1339       117.95   117.517181\n",
              "1340       116.30   117.811729\n",
              "1341       116.65   117.308319\n",
              "1342       116.30   117.277840\n",
              "1343       119.45   117.119591\n",
              "1344       119.60   118.834824\n",
              "1345       120.90   119.948387\n",
              "1346       120.80   121.081917\n",
              "1347       120.90   121.460579\n",
              "1348       121.50   121.520714"
            ]
          },
          "metadata": {
            "tags": []
          },
          "execution_count": 64
        }
      ]
    },
    {
      "cell_type": "markdown",
      "metadata": {
        "id": "7svgvDoYQ14y",
        "colab_type": "text"
      },
      "source": [
        "Make Future Predictions"
      ]
    },
    {
      "cell_type": "code",
      "metadata": {
        "id": "dh_hVsS-1gTR",
        "colab_type": "code",
        "outputId": "b2829f74-8d74-4a4c-9b3f-a6f0ec1a882d",
        "colab": {
          "base_uri": "https://localhost:8080/",
          "height": 35
        }
      },
      "source": [
        "#Get the quote\n",
        "feature_quote = pd.read_csv('535755.csv')\n",
        "#Create a new dataframe\n",
        "new_df = feature_quote.filter(['Close Price'])\n",
        "\n",
        "#Get teh last 60 day closing price \n",
        "last_1_days = new_df[:5].values\n",
        "#Scale the data to be values between 0 and 1\n",
        "last_1_days_scaled = scaler.transform(last_1_days)\n",
        "#Create an empty list\n",
        "X_test = []\n",
        "#Append teh past 1 days\n",
        "X_test.append(last_1_days_scaled)\n",
        "#Convert the X_test data set to a numpy array\n",
        "X_test = np.array(X_test)\n",
        "#Reshape the data\n",
        "X_test = np.reshape(X_test, (X_test.shape[0], X_test.shape[1], 1))\n",
        "#Get the predicted scaled price\n",
        "pred_price = model.predict(X_test)\n",
        "#undo the scaling \n",
        "pred_price = scaler.inverse_transform(pred_price)\n",
        "print(pred_price)"
      ],
      "execution_count": 63,
      "outputs": [
        {
          "output_type": "stream",
          "text": [
            "[[120.2914]]\n"
          ],
          "name": "stdout"
        }
      ]
    },
    {
      "cell_type": "code",
      "metadata": {
        "id": "-D3QoAnv2_ot",
        "colab_type": "code",
        "colab": {}
      },
      "source": [
        ""
      ],
      "execution_count": 0,
      "outputs": []
    }
  ]
}