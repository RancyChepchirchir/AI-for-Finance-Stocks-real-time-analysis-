{
  "nbformat": 4,
  "nbformat_minor": 0,
  "metadata": {
    "colab": {
      "name": "PowerMechStocksPred.ipynb",
      "provenance": [],
      "collapsed_sections": []
    },
    "kernelspec": {
      "name": "python3",
      "display_name": "Python 3"
    },
    "accelerator": "TPU"
  },
  "cells": [
    {
      "cell_type": "markdown",
      "metadata": {
        "id": "UrkuG0v5QG9a",
        "colab_type": "text"
      },
      "source": [
        "IMPORTS"
      ]
    },
    {
      "cell_type": "code",
      "metadata": {
        "id": "e55AvObKgQOO",
        "colab_type": "code",
        "colab": {
          "base_uri": "https://localhost:8080/",
          "height": 89
        },
        "outputId": "be1ce47c-c7b5-4135-bf6a-49c20717fa7a"
      },
      "source": [
        "#Import the libraries\n",
        "import math\n",
        "import pandas_datareader as web\n",
        "import numpy as np\n",
        "import pandas as pd\n",
        "from sklearn.preprocessing import MinMaxScaler\n",
        "from keras.models import Sequential\n",
        "from keras.layers import Dense, LSTM\n",
        "import matplotlib.pyplot as plt\n",
        "plt.style.use('fivethirtyeight')"
      ],
      "execution_count": 1,
      "outputs": [
        {
          "output_type": "stream",
          "text": [
            "/usr/local/lib/python3.6/dist-packages/pandas_datareader/compat/__init__.py:7: FutureWarning: pandas.util.testing is deprecated. Use the functions in the public API at pandas.testing instead.\n",
            "  from pandas.util.testing import assert_frame_equal\n",
            "Using TensorFlow backend.\n"
          ],
          "name": "stderr"
        }
      ]
    },
    {
      "cell_type": "code",
      "metadata": {
        "id": "C5fiskcqh35U",
        "colab_type": "code",
        "colab": {}
      },
      "source": [
        "df = pd.read_csv('539302.csv')"
      ],
      "execution_count": 0,
      "outputs": []
    },
    {
      "cell_type": "code",
      "metadata": {
        "id": "W_PlNeTni5pD",
        "colab_type": "code",
        "colab": {}
      },
      "source": [
        "df.reset_index(drop=True, inplace=True)"
      ],
      "execution_count": 0,
      "outputs": []
    },
    {
      "cell_type": "code",
      "metadata": {
        "id": "KY4XYZr3iIIS",
        "colab_type": "code",
        "outputId": "437317ef-555a-450e-e269-8a181e3a13c7",
        "colab": {
          "base_uri": "https://localhost:8080/",
          "height": 35
        }
      },
      "source": [
        "df.shape"
      ],
      "execution_count": 5,
      "outputs": [
        {
          "output_type": "execute_result",
          "data": {
            "text/plain": [
              "(82, 13)"
            ]
          },
          "metadata": {
            "tags": []
          },
          "execution_count": 5
        }
      ]
    },
    {
      "cell_type": "code",
      "metadata": {
        "id": "5nhwZOxmjrVD",
        "colab_type": "code",
        "outputId": "70801d2e-30a3-46e9-a54a-8babf6ffe6db",
        "colab": {
          "base_uri": "https://localhost:8080/",
          "height": 427
        }
      },
      "source": [
        "df.head()"
      ],
      "execution_count": 6,
      "outputs": [
        {
          "output_type": "execute_result",
          "data": {
            "text/html": [
              "<div>\n",
              "<style scoped>\n",
              "    .dataframe tbody tr th:only-of-type {\n",
              "        vertical-align: middle;\n",
              "    }\n",
              "\n",
              "    .dataframe tbody tr th {\n",
              "        vertical-align: top;\n",
              "    }\n",
              "\n",
              "    .dataframe thead th {\n",
              "        text-align: right;\n",
              "    }\n",
              "</style>\n",
              "<table border=\"1\" class=\"dataframe\">\n",
              "  <thead>\n",
              "    <tr style=\"text-align: right;\">\n",
              "      <th></th>\n",
              "      <th>Date</th>\n",
              "      <th>Open Price</th>\n",
              "      <th>High Price</th>\n",
              "      <th>Low Price</th>\n",
              "      <th>Close Price</th>\n",
              "      <th>WAP</th>\n",
              "      <th>No.of Shares</th>\n",
              "      <th>No. of Trades</th>\n",
              "      <th>Total Turnover (Rs.)</th>\n",
              "      <th>Deliverable Quantity</th>\n",
              "      <th>% Deli. Qty to Traded Qty</th>\n",
              "      <th>Spread High-Low</th>\n",
              "      <th>Spread Close-Open</th>\n",
              "    </tr>\n",
              "  </thead>\n",
              "  <tbody>\n",
              "    <tr>\n",
              "      <th>0</th>\n",
              "      <td>30-April-2020</td>\n",
              "      <td>395.00</td>\n",
              "      <td>397.05</td>\n",
              "      <td>378.95</td>\n",
              "      <td>381.65</td>\n",
              "      <td>385.119839</td>\n",
              "      <td>993</td>\n",
              "      <td>225</td>\n",
              "      <td>382424.0</td>\n",
              "      <td>430</td>\n",
              "      <td>43.30</td>\n",
              "      <td>18.10</td>\n",
              "      <td>-13.35</td>\n",
              "    </tr>\n",
              "    <tr>\n",
              "      <th>1</th>\n",
              "      <td>29-April-2020</td>\n",
              "      <td>386.95</td>\n",
              "      <td>394.60</td>\n",
              "      <td>381.00</td>\n",
              "      <td>387.90</td>\n",
              "      <td>387.457847</td>\n",
              "      <td>771</td>\n",
              "      <td>81</td>\n",
              "      <td>298730.0</td>\n",
              "      <td>458</td>\n",
              "      <td>59.40</td>\n",
              "      <td>13.60</td>\n",
              "      <td>0.95</td>\n",
              "    </tr>\n",
              "    <tr>\n",
              "      <th>2</th>\n",
              "      <td>28-April-2020</td>\n",
              "      <td>379.60</td>\n",
              "      <td>386.30</td>\n",
              "      <td>364.00</td>\n",
              "      <td>377.30</td>\n",
              "      <td>375.492326</td>\n",
              "      <td>847</td>\n",
              "      <td>149</td>\n",
              "      <td>318042.0</td>\n",
              "      <td>424</td>\n",
              "      <td>50.06</td>\n",
              "      <td>22.30</td>\n",
              "      <td>-2.30</td>\n",
              "    </tr>\n",
              "    <tr>\n",
              "      <th>3</th>\n",
              "      <td>27-April-2020</td>\n",
              "      <td>389.85</td>\n",
              "      <td>389.95</td>\n",
              "      <td>368.00</td>\n",
              "      <td>371.55</td>\n",
              "      <td>374.463710</td>\n",
              "      <td>1488</td>\n",
              "      <td>155</td>\n",
              "      <td>557202.0</td>\n",
              "      <td>1204</td>\n",
              "      <td>80.91</td>\n",
              "      <td>21.95</td>\n",
              "      <td>-18.30</td>\n",
              "    </tr>\n",
              "    <tr>\n",
              "      <th>4</th>\n",
              "      <td>24-April-2020</td>\n",
              "      <td>400.00</td>\n",
              "      <td>400.00</td>\n",
              "      <td>378.55</td>\n",
              "      <td>379.95</td>\n",
              "      <td>386.914620</td>\n",
              "      <td>855</td>\n",
              "      <td>155</td>\n",
              "      <td>330812.0</td>\n",
              "      <td>496</td>\n",
              "      <td>58.01</td>\n",
              "      <td>21.45</td>\n",
              "      <td>-20.05</td>\n",
              "    </tr>\n",
              "  </tbody>\n",
              "</table>\n",
              "</div>"
            ],
            "text/plain": [
              "            Date  Open Price  ...  Spread High-Low  Spread Close-Open\n",
              "0  30-April-2020      395.00  ...            18.10             -13.35\n",
              "1  29-April-2020      386.95  ...            13.60               0.95\n",
              "2  28-April-2020      379.60  ...            22.30              -2.30\n",
              "3  27-April-2020      389.85  ...            21.95             -18.30\n",
              "4  24-April-2020      400.00  ...            21.45             -20.05\n",
              "\n",
              "[5 rows x 13 columns]"
            ]
          },
          "metadata": {
            "tags": []
          },
          "execution_count": 6
        }
      ]
    },
    {
      "cell_type": "code",
      "metadata": {
        "id": "Wh-GnSi5iT31",
        "colab_type": "code",
        "outputId": "030e7ac0-1bd1-4f8d-c710-fcaac65847fa",
        "colab": {
          "base_uri": "https://localhost:8080/",
          "height": 453
        }
      },
      "source": [
        "#Visualize the features\n",
        "plt.figure(figsize=(16,8))\n",
        "plt.title('Close Price')\n",
        "plt.scatter(df['Date'], df['Close Price'])\n",
        "plt.plot(df['Date'], df['Close Price'])\n",
        "\n",
        "plt.xlabel('Date',fontsize=18)\n",
        "plt.ylabel('Close Price',fontsize=18)\n",
        "plt.show()"
      ],
      "execution_count": 7,
      "outputs": [
        {
          "output_type": "display_data",
          "data": {
            "image/png": "[encoded data removed]",
            "text/plain": [
              "<Figure size 1152x576 with 1 Axes>"
            ]
          },
          "metadata": {
            "tags": [],
            "needs_background": "light"
          }
        }
      ]
    },
    {
      "cell_type": "markdown",
      "metadata": {
        "id": "cCe2jy2iQOMZ",
        "colab_type": "text"
      },
      "source": [
        "Feature Engineering"
      ]
    },
    {
      "cell_type": "code",
      "metadata": {
        "id": "s7KemH23j3_2",
        "colab_type": "code",
        "colab": {}
      },
      "source": [
        "#Create a new dataframe with only the 'feature' column\n",
        "data = df.filter(['Close Price'])\n",
        "#Converting the dataframe to a numpy array\n",
        "dataset = data.values\n",
        "#Get /Compute the number of rows to train the model on\n",
        "training_data_len = math.ceil( len(dataset) *.8)"
      ],
      "execution_count": 0,
      "outputs": []
    },
    {
      "cell_type": "code",
      "metadata": {
        "id": "bmx1Qu2epVTR",
        "colab_type": "code",
        "outputId": "a7efcd8c-27d9-4fbb-8340-2b4401c31680",
        "colab": {
          "base_uri": "https://localhost:8080/",
          "height": 35
        }
      },
      "source": [
        "training_data_len"
      ],
      "execution_count": 9,
      "outputs": [
        {
          "output_type": "execute_result",
          "data": {
            "text/plain": [
              "66"
            ]
          },
          "metadata": {
            "tags": []
          },
          "execution_count": 9
        }
      ]
    },
    {
      "cell_type": "code",
      "metadata": {
        "id": "hRiOf3uum4jc",
        "colab_type": "code",
        "colab": {}
      },
      "source": [
        "#Scale the all of the data to be values between 0 and 1 \n",
        "scaler = MinMaxScaler(feature_range=(0, 1)) \n",
        "scaled_data = scaler.fit_transform(dataset)\n"
      ],
      "execution_count": 0,
      "outputs": []
    },
    {
      "cell_type": "code",
      "metadata": {
        "id": "6mg1v0apm8Dd",
        "colab_type": "code",
        "outputId": "48a4aa9a-5863-483e-a5f1-e759b745244e",
        "colab": {
          "base_uri": "https://localhost:8080/",
          "height": 35
        }
      },
      "source": [
        "len(scaled_data)"
      ],
      "execution_count": 11,
      "outputs": [
        {
          "output_type": "execute_result",
          "data": {
            "text/plain": [
              "82"
            ]
          },
          "metadata": {
            "tags": []
          },
          "execution_count": 11
        }
      ]
    },
    {
      "cell_type": "markdown",
      "metadata": {
        "id": "u61TKNL9QVmm",
        "colab_type": "text"
      },
      "source": [
        "Train and Test Split"
      ]
    },
    {
      "cell_type": "code",
      "metadata": {
        "id": "_v8ufSahm9RA",
        "colab_type": "code",
        "outputId": "6c0ef1ee-fe4c-4039-d180-df89daf7872d",
        "colab": {
          "base_uri": "https://localhost:8080/",
          "height": 35
        }
      },
      "source": [
        "#Create the scaled training data set \n",
        "train_data = scaled_data[0:training_data_len  , : ]\n",
        "len(train_data)"
      ],
      "execution_count": 12,
      "outputs": [
        {
          "output_type": "execute_result",
          "data": {
            "text/plain": [
              "66"
            ]
          },
          "metadata": {
            "tags": []
          },
          "execution_count": 12
        }
      ]
    },
    {
      "cell_type": "code",
      "metadata": {
        "id": "6rZFrrBXqzjB",
        "colab_type": "code",
        "colab": {}
      },
      "source": [
        "#Split the data into x_train and y_train data sets\n",
        "x_train=[]\n",
        "y_train = []\n",
        "for i in range(5, len(train_data)):\n",
        "    x_train.append(train_data[i-5:i,0])\n",
        "    y_train.append(train_data[i,0])"
      ],
      "execution_count": 0,
      "outputs": []
    },
    {
      "cell_type": "code",
      "metadata": {
        "id": "oVO8C5csvHoG",
        "colab_type": "code",
        "colab": {}
      },
      "source": [
        "#Convert x_train and y_train to numpy arrays\n",
        "x_train, y_train = np.array(x_train), np.array(y_train)"
      ],
      "execution_count": 0,
      "outputs": []
    },
    {
      "cell_type": "code",
      "metadata": {
        "id": "vBVAkhp8vMNg",
        "colab_type": "code",
        "colab": {}
      },
      "source": [
        "#Reshape the data into the shape accepted by the LSTM\n",
        "x_train = np.reshape(x_train, (x_train.shape[0],x_train.shape[1],1))"
      ],
      "execution_count": 0,
      "outputs": []
    },
    {
      "cell_type": "markdown",
      "metadata": {
        "id": "cd-vcMCTQZbr",
        "colab_type": "text"
      },
      "source": [
        "Build the Architecture"
      ]
    },
    {
      "cell_type": "code",
      "metadata": {
        "id": "KTxE0Aowvcfp",
        "colab_type": "code",
        "colab": {}
      },
      "source": [
        "#Build the LSTM network model\n",
        "model = Sequential()\n",
        "model.add(LSTM(units=50, return_sequences=True,input_shape=(x_train.shape[1],1)))\n",
        "model.add(LSTM(units=50, return_sequences=False))\n",
        "model.add(Dense(units=25))\n",
        "model.add(Dense(units=1))\n",
        "\n",
        "#Compile the model\n",
        "model.compile(optimizer='adam', loss='mean_squared_error')"
      ],
      "execution_count": 0,
      "outputs": []
    },
    {
      "cell_type": "code",
      "metadata": {
        "id": "3xS3JzhJvep2",
        "colab_type": "code",
        "colab": {}
      },
      "source": [
        "# from keras.layers import Dropout\n",
        "\n",
        "# # Initialising the RNN\n",
        "# model = Sequential()\n",
        "# model.add(LSTM(units = 50, return_sequences = True, input_shape = (x_train.shape[1], 1)))\n",
        "# #model.add(Dropout(0.2))\n",
        "# # Adding a second LSTM layer and some Dropout regularisation\n",
        "# model.add(LSTM(units = 50, return_sequences = False))\n",
        "# #model.add(Dropout(0.2))\n",
        "# # Adding a third LSTM layer and some Dropout regularisation\n",
        "# # model.add(LSTM(units = 50, return_sequences = True))\n",
        "# # model.add(Dropout(0.2))\n",
        "# # Adding a fourth LSTM layer and some Dropout regularisation\n",
        "# model.add(LSTM(units = 50))\n",
        "# #model.add(Dropout(0.2))\n",
        "# # Adding the output layer\n",
        "# # For Full connection layer we use dense\n",
        "# # As the output is 1D so we use unit=1\n",
        "# model.add(Dense(units = 25))\n",
        "# # Compiling the RNN\n",
        "# # For optimizer we can go through keras optimizers Docomentation\n",
        "# # As it is regression problem so we use mean squared error\n",
        "# model.compile(optimizer = 'adam', loss = 'mean_squared_error')\n"
      ],
      "execution_count": 0,
      "outputs": []
    },
    {
      "cell_type": "markdown",
      "metadata": {
        "id": "CQBxOxkBQgXp",
        "colab_type": "text"
      },
      "source": [
        "Train The Model"
      ]
    },
    {
      "cell_type": "code",
      "metadata": {
        "id": "m3VOCGKgvjyB",
        "colab_type": "code",
        "outputId": "5cb7d642-ee78-4dd8-9172-5e86e24153ad",
        "colab": {
          "base_uri": "https://localhost:8080/",
          "height": 1000
        }
      },
      "source": [
        "#Train the model\n",
        "model.fit(x_train, y_train, batch_size=50, epochs=100)"
      ],
      "execution_count": 17,
      "outputs": [
        {
          "output_type": "stream",
          "text": [
            "Epoch 1/100\n",
            "61/61 [==============================] - 1s 14ms/step - loss: 0.3440\n",
            "Epoch 2/100\n",
            "61/61 [==============================] - 0s 339us/step - loss: 0.2618\n",
            "Epoch 3/100\n",
            "61/61 [==============================] - 0s 321us/step - loss: 0.1827\n",
            "Epoch 4/100\n",
            "61/61 [==============================] - 0s 306us/step - loss: 0.1152\n",
            "Epoch 5/100\n",
            "61/61 [==============================] - 0s 340us/step - loss: 0.0568\n",
            "Epoch 6/100\n",
            "61/61 [==============================] - 0s 318us/step - loss: 0.0251\n",
            "Epoch 7/100\n",
            "61/61 [==============================] - 0s 321us/step - loss: 0.0263\n",
            "Epoch 8/100\n",
            "61/61 [==============================] - 0s 351us/step - loss: 0.0496\n",
            "Epoch 9/100\n",
            "61/61 [==============================] - 0s 323us/step - loss: 0.0513\n",
            "Epoch 10/100\n",
            "61/61 [==============================] - 0s 318us/step - loss: 0.0352\n",
            "Epoch 11/100\n",
            "61/61 [==============================] - 0s 333us/step - loss: 0.0213\n",
            "Epoch 12/100\n",
            "61/61 [==============================] - 0s 311us/step - loss: 0.0170\n",
            "Epoch 13/100\n",
            "61/61 [==============================] - 0s 322us/step - loss: 0.0187\n",
            "Epoch 14/100\n",
            "61/61 [==============================] - 0s 311us/step - loss: 0.0210\n",
            "Epoch 15/100\n",
            "61/61 [==============================] - 0s 306us/step - loss: 0.0216\n",
            "Epoch 16/100\n",
            "61/61 [==============================] - 0s 303us/step - loss: 0.0196\n",
            "Epoch 17/100\n",
            "61/61 [==============================] - 0s 311us/step - loss: 0.0161\n",
            "Epoch 18/100\n",
            "61/61 [==============================] - 0s 311us/step - loss: 0.0128\n",
            "Epoch 19/100\n",
            "61/61 [==============================] - 0s 319us/step - loss: 0.0113\n",
            "Epoch 20/100\n",
            "61/61 [==============================] - 0s 508us/step - loss: 0.0117\n",
            "Epoch 21/100\n",
            "61/61 [==============================] - 0s 396us/step - loss: 0.0124\n",
            "Epoch 22/100\n",
            "61/61 [==============================] - 0s 428us/step - loss: 0.0121\n",
            "Epoch 23/100\n",
            "61/61 [==============================] - 0s 381us/step - loss: 0.0108\n",
            "Epoch 24/100\n",
            "61/61 [==============================] - 0s 441us/step - loss: 0.0094\n",
            "Epoch 25/100\n",
            "61/61 [==============================] - 0s 351us/step - loss: 0.0087\n",
            "Epoch 26/100\n",
            "61/61 [==============================] - 0s 428us/step - loss: 0.0086\n",
            "Epoch 27/100\n",
            "61/61 [==============================] - 0s 356us/step - loss: 0.0086\n",
            "Epoch 28/100\n",
            "61/61 [==============================] - 0s 357us/step - loss: 0.0084\n",
            "Epoch 29/100\n",
            "61/61 [==============================] - 0s 364us/step - loss: 0.0082\n",
            "Epoch 30/100\n",
            "61/61 [==============================] - 0s 361us/step - loss: 0.0082\n",
            "Epoch 31/100\n",
            "61/61 [==============================] - 0s 357us/step - loss: 0.0083\n",
            "Epoch 32/100\n",
            "61/61 [==============================] - 0s 353us/step - loss: 0.0083\n",
            "Epoch 33/100\n",
            "61/61 [==============================] - 0s 352us/step - loss: 0.0083\n",
            "Epoch 34/100\n",
            "61/61 [==============================] - 0s 331us/step - loss: 0.0082\n",
            "Epoch 35/100\n",
            "61/61 [==============================] - 0s 316us/step - loss: 0.0081\n",
            "Epoch 36/100\n",
            "61/61 [==============================] - 0s 344us/step - loss: 0.0081\n",
            "Epoch 37/100\n",
            "61/61 [==============================] - 0s 330us/step - loss: 0.0081\n",
            "Epoch 38/100\n",
            "61/61 [==============================] - 0s 431us/step - loss: 0.0082\n",
            "Epoch 39/100\n",
            "61/61 [==============================] - 0s 347us/step - loss: 0.0083\n",
            "Epoch 40/100\n",
            "61/61 [==============================] - 0s 390us/step - loss: 0.0082\n",
            "Epoch 41/100\n",
            "61/61 [==============================] - 0s 348us/step - loss: 0.0081\n",
            "Epoch 42/100\n",
            "61/61 [==============================] - 0s 342us/step - loss: 0.0080\n",
            "Epoch 43/100\n",
            "61/61 [==============================] - 0s 351us/step - loss: 0.0080\n",
            "Epoch 44/100\n",
            "61/61 [==============================] - 0s 299us/step - loss: 0.0082\n",
            "Epoch 45/100\n",
            "61/61 [==============================] - 0s 360us/step - loss: 0.0083\n",
            "Epoch 46/100\n",
            "61/61 [==============================] - 0s 371us/step - loss: 0.0081\n",
            "Epoch 47/100\n",
            "61/61 [==============================] - 0s 300us/step - loss: 0.0079\n",
            "Epoch 48/100\n",
            "61/61 [==============================] - 0s 381us/step - loss: 0.0081\n",
            "Epoch 49/100\n",
            "61/61 [==============================] - 0s 326us/step - loss: 0.0082\n",
            "Epoch 50/100\n",
            "61/61 [==============================] - 0s 349us/step - loss: 0.0082\n",
            "Epoch 51/100\n",
            "61/61 [==============================] - 0s 344us/step - loss: 0.0080\n",
            "Epoch 52/100\n",
            "61/61 [==============================] - 0s 352us/step - loss: 0.0079\n",
            "Epoch 53/100\n",
            "61/61 [==============================] - 0s 396us/step - loss: 0.0079\n",
            "Epoch 54/100\n",
            "61/61 [==============================] - 0s 384us/step - loss: 0.0078\n",
            "Epoch 55/100\n",
            "61/61 [==============================] - 0s 385us/step - loss: 0.0078\n",
            "Epoch 56/100\n",
            "61/61 [==============================] - 0s 320us/step - loss: 0.0078\n",
            "Epoch 57/100\n",
            "61/61 [==============================] - 0s 371us/step - loss: 0.0078\n",
            "Epoch 58/100\n",
            "61/61 [==============================] - 0s 438us/step - loss: 0.0077\n",
            "Epoch 59/100\n",
            "61/61 [==============================] - 0s 373us/step - loss: 0.0078\n",
            "Epoch 60/100\n",
            "61/61 [==============================] - 0s 373us/step - loss: 0.0077\n",
            "Epoch 61/100\n",
            "61/61 [==============================] - 0s 372us/step - loss: 0.0077\n",
            "Epoch 62/100\n",
            "61/61 [==============================] - 0s 340us/step - loss: 0.0077\n",
            "Epoch 63/100\n",
            "61/61 [==============================] - 0s 329us/step - loss: 0.0077\n",
            "Epoch 64/100\n",
            "61/61 [==============================] - 0s 365us/step - loss: 0.0077\n",
            "Epoch 65/100\n",
            "61/61 [==============================] - 0s 337us/step - loss: 0.0077\n",
            "Epoch 66/100\n",
            "61/61 [==============================] - 0s 387us/step - loss: 0.0077\n",
            "Epoch 67/100\n",
            "61/61 [==============================] - 0s 372us/step - loss: 0.0076\n",
            "Epoch 68/100\n",
            "61/61 [==============================] - 0s 366us/step - loss: 0.0076\n",
            "Epoch 69/100\n",
            "61/61 [==============================] - 0s 357us/step - loss: 0.0076\n",
            "Epoch 70/100\n",
            "61/61 [==============================] - 0s 340us/step - loss: 0.0077\n",
            "Epoch 71/100\n",
            "61/61 [==============================] - 0s 311us/step - loss: 0.0079\n",
            "Epoch 72/100\n",
            "61/61 [==============================] - 0s 362us/step - loss: 0.0079\n",
            "Epoch 73/100\n",
            "61/61 [==============================] - 0s 320us/step - loss: 0.0078\n",
            "Epoch 74/100\n",
            "61/61 [==============================] - 0s 346us/step - loss: 0.0076\n",
            "Epoch 75/100\n",
            "61/61 [==============================] - 0s 344us/step - loss: 0.0076\n",
            "Epoch 76/100\n",
            "61/61 [==============================] - 0s 336us/step - loss: 0.0075\n",
            "Epoch 77/100\n",
            "61/61 [==============================] - 0s 348us/step - loss: 0.0075\n",
            "Epoch 78/100\n",
            "61/61 [==============================] - 0s 439us/step - loss: 0.0074\n",
            "Epoch 79/100\n",
            "61/61 [==============================] - 0s 358us/step - loss: 0.0074\n",
            "Epoch 80/100\n",
            "61/61 [==============================] - 0s 316us/step - loss: 0.0074\n",
            "Epoch 81/100\n",
            "61/61 [==============================] - 0s 302us/step - loss: 0.0074\n",
            "Epoch 82/100\n",
            "61/61 [==============================] - 0s 441us/step - loss: 0.0073\n",
            "Epoch 83/100\n",
            "61/61 [==============================] - 0s 351us/step - loss: 0.0073\n",
            "Epoch 84/100\n",
            "61/61 [==============================] - 0s 353us/step - loss: 0.0074\n",
            "Epoch 85/100\n",
            "61/61 [==============================] - 0s 357us/step - loss: 0.0074\n",
            "Epoch 86/100\n",
            "61/61 [==============================] - 0s 353us/step - loss: 0.0073\n",
            "Epoch 87/100\n",
            "61/61 [==============================] - 0s 347us/step - loss: 0.0073\n",
            "Epoch 88/100\n",
            "61/61 [==============================] - 0s 308us/step - loss: 0.0073\n",
            "Epoch 89/100\n",
            "61/61 [==============================] - 0s 419us/step - loss: 0.0073\n",
            "Epoch 90/100\n",
            "61/61 [==============================] - 0s 353us/step - loss: 0.0073\n",
            "Epoch 91/100\n",
            "61/61 [==============================] - 0s 350us/step - loss: 0.0072\n",
            "Epoch 92/100\n",
            "61/61 [==============================] - 0s 312us/step - loss: 0.0072\n",
            "Epoch 93/100\n",
            "61/61 [==============================] - 0s 348us/step - loss: 0.0072\n",
            "Epoch 94/100\n",
            "61/61 [==============================] - 0s 348us/step - loss: 0.0071\n",
            "Epoch 95/100\n",
            "61/61 [==============================] - 0s 347us/step - loss: 0.0071\n",
            "Epoch 96/100\n",
            "61/61 [==============================] - 0s 346us/step - loss: 0.0072\n",
            "Epoch 97/100\n",
            "61/61 [==============================] - 0s 365us/step - loss: 0.0072\n",
            "Epoch 98/100\n",
            "61/61 [==============================] - 0s 319us/step - loss: 0.0071\n",
            "Epoch 99/100\n",
            "61/61 [==============================] - 0s 368us/step - loss: 0.0071\n",
            "Epoch 100/100\n",
            "61/61 [==============================] - 0s 345us/step - loss: 0.0071\n"
          ],
          "name": "stdout"
        },
        {
          "output_type": "execute_result",
          "data": {
            "text/plain": [
              "<keras.callbacks.callbacks.History at 0x7fb2a5e65550>"
            ]
          },
          "metadata": {
            "tags": []
          },
          "execution_count": 17
        }
      ]
    },
    {
      "cell_type": "markdown",
      "metadata": {
        "id": "r-XPuHXXQkxc",
        "colab_type": "text"
      },
      "source": [
        "Testing Dataset "
      ]
    },
    {
      "cell_type": "code",
      "metadata": {
        "id": "9YXpwflAvlc9",
        "colab_type": "code",
        "outputId": "667e3f07-57cd-4030-f10f-9d2055893bdc",
        "colab": {
          "base_uri": "https://localhost:8080/",
          "height": 35
        }
      },
      "source": [
        "#Test data set\n",
        "test_data = scaled_data[training_data_len - 5: , : ]\n",
        "len(test_data)"
      ],
      "execution_count": 18,
      "outputs": [
        {
          "output_type": "execute_result",
          "data": {
            "text/plain": [
              "21"
            ]
          },
          "metadata": {
            "tags": []
          },
          "execution_count": 18
        }
      ]
    },
    {
      "cell_type": "code",
      "metadata": {
        "id": "yF98KjtAxAiM",
        "colab_type": "code",
        "colab": {}
      },
      "source": [
        "#Create the x_test and y_test data sets\n",
        "x_test = []\n",
        "y_test =  dataset[training_data_len : , : ] #Get all of the rows from index 1603 to the rest and all of the columns (in this case it's only column 'Close'), so 2003 - 1603 = 400 rows of data\n",
        "for i in range(5,len(test_data)):\n",
        "    x_test.append(test_data[i-5:i,0])"
      ],
      "execution_count": 0,
      "outputs": []
    },
    {
      "cell_type": "code",
      "metadata": {
        "id": "j2lH0qLxxrF0",
        "colab_type": "code",
        "colab": {}
      },
      "source": [
        "# x_test"
      ],
      "execution_count": 0,
      "outputs": []
    },
    {
      "cell_type": "code",
      "metadata": {
        "id": "nb3ya4mBx5RW",
        "colab_type": "code",
        "colab": {}
      },
      "source": [
        "# y_test"
      ],
      "execution_count": 0,
      "outputs": []
    },
    {
      "cell_type": "code",
      "metadata": {
        "id": "3iYWAraIx6mt",
        "colab_type": "code",
        "outputId": "f4ebf46c-0b38-4d79-9be1-280c4f8cfb2e",
        "colab": {
          "base_uri": "https://localhost:8080/",
          "height": 35
        }
      },
      "source": [
        "len(x_test)"
      ],
      "execution_count": 20,
      "outputs": [
        {
          "output_type": "execute_result",
          "data": {
            "text/plain": [
              "16"
            ]
          },
          "metadata": {
            "tags": []
          },
          "execution_count": 20
        }
      ]
    },
    {
      "cell_type": "code",
      "metadata": {
        "id": "uHBGKHWFx8g9",
        "colab_type": "code",
        "colab": {}
      },
      "source": [
        "len(y_test)"
      ],
      "execution_count": 0,
      "outputs": []
    },
    {
      "cell_type": "code",
      "metadata": {
        "id": "6FD16FSqyU3a",
        "colab_type": "code",
        "colab": {}
      },
      "source": [
        "#Convert x_test to a numpy array \n",
        "x_test = np.array(x_test)"
      ],
      "execution_count": 0,
      "outputs": []
    },
    {
      "cell_type": "code",
      "metadata": {
        "id": "NQtqmNUEx_lH",
        "colab_type": "code",
        "colab": {}
      },
      "source": [
        "#Reshape the data into the shape accepted by the LSTM\n",
        "x_test = np.reshape(x_test, (x_test.shape[0],x_test.shape[1],1))"
      ],
      "execution_count": 0,
      "outputs": []
    },
    {
      "cell_type": "markdown",
      "metadata": {
        "id": "gjOrU8hYQoyI",
        "colab_type": "text"
      },
      "source": [
        "Make Predictions"
      ]
    },
    {
      "cell_type": "code",
      "metadata": {
        "id": "Wbhdf0uXyEAH",
        "colab_type": "code",
        "colab": {}
      },
      "source": [
        "#Getting the models predicted price values\n",
        "predictions = model.predict(x_test) \n",
        "predictions = scaler.inverse_transform(predictions)#Undo scaling"
      ],
      "execution_count": 0,
      "outputs": []
    },
    {
      "cell_type": "markdown",
      "metadata": {
        "id": "CpRYmBuCQq8U",
        "colab_type": "text"
      },
      "source": [
        "Calculate RMSE"
      ]
    },
    {
      "cell_type": "code",
      "metadata": {
        "id": "eAw0EZf4yF2-",
        "colab_type": "code",
        "outputId": "5f2f0b9f-e5d4-4453-ad45-fa982bbebdfc",
        "colab": {
          "base_uri": "https://localhost:8080/",
          "height": 35
        }
      },
      "source": [
        "#Calculate/Get the value of RMSE\n",
        "rmse=np.sqrt(np.mean(((predictions- y_test)**2)))\n",
        "rmse"
      ],
      "execution_count": 27,
      "outputs": [
        {
          "output_type": "execute_result",
          "data": {
            "text/plain": [
              "46.581624404157694"
            ]
          },
          "metadata": {
            "tags": []
          },
          "execution_count": 27
        }
      ]
    },
    {
      "cell_type": "markdown",
      "metadata": {
        "id": "EPhgLIRkQtv4",
        "colab_type": "text"
      },
      "source": [
        "Visualizations of Results"
      ]
    },
    {
      "cell_type": "code",
      "metadata": {
        "id": "7to1DdthydDK",
        "colab_type": "code",
        "outputId": "77ce4f8c-d602-4201-e488-2a22afa39cd5",
        "colab": {
          "base_uri": "https://localhost:8080/",
          "height": 577
        }
      },
      "source": [
        "#Plot/Create the data for the graph\n",
        "train = data[:training_data_len]\n",
        "valid = data[training_data_len:]\n",
        "valid['Predictions'] = predictions\n",
        "\n",
        "#Visualize the data\n",
        "plt.figure(figsize=(16,8))\n",
        "plt.title('Model')\n",
        "plt.xlabel('Date', fontsize=18)\n",
        "plt.ylabel('Close Price', fontsize=18)\n",
        "plt.plot(train['Close Price'])\n",
        "plt.plot(valid[['Close Price', 'Predictions']])\n",
        "plt.legend(['Train', 'Val', 'Predictions'], loc='lower right')\n",
        "plt.show()"
      ],
      "execution_count": 29,
      "outputs": [
        {
          "output_type": "stream",
          "text": [
            "/usr/local/lib/python3.6/dist-packages/ipykernel_launcher.py:3: SettingWithCopyWarning: \n",
            "A value is trying to be set on a copy of a slice from a DataFrame.\n",
            "Try using .loc[row_indexer,col_indexer] = value instead\n",
            "\n",
            "See the caveats in the documentation: https://pandas.pydata.org/pandas-docs/stable/user_guide/indexing.html#returning-a-view-versus-a-copy\n",
            "  This is separate from the ipykernel package so we can avoid doing imports until\n"
          ],
          "name": "stderr"
        },
        {
          "output_type": "display_data",
          "data": {
            "image/png": "[encoded data removed]",
            "text/plain": [
              "<Figure size 1152x576 with 1 Axes>"
            ]
          },
          "metadata": {
            "tags": [],
            "needs_background": "light"
          }
        }
      ]
    },
    {
      "cell_type": "code",
      "metadata": {
        "id": "FF9ByL2HysmN",
        "colab_type": "code",
        "outputId": "4139febd-acef-4132-d9c9-d19d75ea2bd7",
        "colab": {
          "base_uri": "https://localhost:8080/",
          "height": 539
        }
      },
      "source": [
        "#Show the valid and predicted prices\n",
        "valid"
      ],
      "execution_count": 30,
      "outputs": [
        {
          "output_type": "execute_result",
          "data": {
            "text/html": [
              "<div>\n",
              "<style scoped>\n",
              "    .dataframe tbody tr th:only-of-type {\n",
              "        vertical-align: middle;\n",
              "    }\n",
              "\n",
              "    .dataframe tbody tr th {\n",
              "        vertical-align: top;\n",
              "    }\n",
              "\n",
              "    .dataframe thead th {\n",
              "        text-align: right;\n",
              "    }\n",
              "</style>\n",
              "<table border=\"1\" class=\"dataframe\">\n",
              "  <thead>\n",
              "    <tr style=\"text-align: right;\">\n",
              "      <th></th>\n",
              "      <th>Close Price</th>\n",
              "      <th>Predictions</th>\n",
              "    </tr>\n",
              "  </thead>\n",
              "  <tbody>\n",
              "    <tr>\n",
              "      <th>66</th>\n",
              "      <td>725.50</td>\n",
              "      <td>747.697571</td>\n",
              "    </tr>\n",
              "    <tr>\n",
              "      <th>67</th>\n",
              "      <td>717.95</td>\n",
              "      <td>741.439575</td>\n",
              "    </tr>\n",
              "    <tr>\n",
              "      <th>68</th>\n",
              "      <td>703.30</td>\n",
              "      <td>739.835449</td>\n",
              "    </tr>\n",
              "    <tr>\n",
              "      <th>69</th>\n",
              "      <td>664.45</td>\n",
              "      <td>741.388245</td>\n",
              "    </tr>\n",
              "    <tr>\n",
              "      <th>70</th>\n",
              "      <td>673.55</td>\n",
              "      <td>731.742859</td>\n",
              "    </tr>\n",
              "    <tr>\n",
              "      <th>71</th>\n",
              "      <td>669.50</td>\n",
              "      <td>720.689697</td>\n",
              "    </tr>\n",
              "    <tr>\n",
              "      <th>72</th>\n",
              "      <td>637.90</td>\n",
              "      <td>708.685425</td>\n",
              "    </tr>\n",
              "    <tr>\n",
              "      <th>73</th>\n",
              "      <td>645.85</td>\n",
              "      <td>694.328125</td>\n",
              "    </tr>\n",
              "    <tr>\n",
              "      <th>74</th>\n",
              "      <td>622.50</td>\n",
              "      <td>681.904480</td>\n",
              "    </tr>\n",
              "    <tr>\n",
              "      <th>75</th>\n",
              "      <td>625.80</td>\n",
              "      <td>675.331116</td>\n",
              "    </tr>\n",
              "    <tr>\n",
              "      <th>76</th>\n",
              "      <td>612.90</td>\n",
              "      <td>665.051147</td>\n",
              "    </tr>\n",
              "    <tr>\n",
              "      <th>77</th>\n",
              "      <td>621.75</td>\n",
              "      <td>653.601440</td>\n",
              "    </tr>\n",
              "    <tr>\n",
              "      <th>78</th>\n",
              "      <td>630.75</td>\n",
              "      <td>649.430542</td>\n",
              "    </tr>\n",
              "    <tr>\n",
              "      <th>79</th>\n",
              "      <td>632.30</td>\n",
              "      <td>644.322327</td>\n",
              "    </tr>\n",
              "    <tr>\n",
              "      <th>80</th>\n",
              "      <td>622.30</td>\n",
              "      <td>645.708008</td>\n",
              "    </tr>\n",
              "    <tr>\n",
              "      <th>81</th>\n",
              "      <td>597.95</td>\n",
              "      <td>645.838684</td>\n",
              "    </tr>\n",
              "  </tbody>\n",
              "</table>\n",
              "</div>"
            ],
            "text/plain": [
              "    Close Price  Predictions\n",
              "66       725.50   747.697571\n",
              "67       717.95   741.439575\n",
              "68       703.30   739.835449\n",
              "69       664.45   741.388245\n",
              "70       673.55   731.742859\n",
              "71       669.50   720.689697\n",
              "72       637.90   708.685425\n",
              "73       645.85   694.328125\n",
              "74       622.50   681.904480\n",
              "75       625.80   675.331116\n",
              "76       612.90   665.051147\n",
              "77       621.75   653.601440\n",
              "78       630.75   649.430542\n",
              "79       632.30   644.322327\n",
              "80       622.30   645.708008\n",
              "81       597.95   645.838684"
            ]
          },
          "metadata": {
            "tags": []
          },
          "execution_count": 30
        }
      ]
    },
    {
      "cell_type": "markdown",
      "metadata": {
        "id": "7svgvDoYQ14y",
        "colab_type": "text"
      },
      "source": [
        "Make Future Predictions"
      ]
    },
    {
      "cell_type": "code",
      "metadata": {
        "id": "azcXCwP8RoMo",
        "colab_type": "code",
        "colab": {}
      },
      "source": [
        "df1 = pd.read_csv('train_csv.csv')\n",
        "df2 = pd.read_csv('test_csv.csv')\n",
        "\n",
        "\n",
        "valid_csv = pd.concat([df1, df2])\n",
        "\n",
        "valid_csv.tail\n",
        "valid_csv.to_csv('valid_csv.csv')"
      ],
      "execution_count": 0,
      "outputs": []
    },
    {
      "cell_type": "code",
      "metadata": {
        "id": "dh_hVsS-1gTR",
        "colab_type": "code",
        "outputId": "3fd156f1-b421-48d4-8ec7-813e9875d159",
        "colab": {
          "base_uri": "https://localhost:8080/",
          "height": 35
        }
      },
      "source": [
        "#Get the quote\n",
        "feature_quote = pd.read_csv('539302.csv')\n",
        "#Create a new dataframe\n",
        "new_df = feature_quote.filter(['Close Price'])\n",
        "\n",
        "#Get teh last 60 day closing price \n",
        "last_1_days = new_df[:5].values\n",
        "#Scale the data to be values between 0 and 1\n",
        "last_1_days_scaled = scaler.transform(last_1_days)\n",
        "#Create an empty list\n",
        "X_test = []\n",
        "#Append teh past 1 days\n",
        "X_test.append(last_1_days_scaled)\n",
        "#Convert the X_test data set to a numpy array\n",
        "X_test = np.array(X_test)\n",
        "#Reshape the data\n",
        "X_test = np.reshape(X_test, (X_test.shape[0], X_test.shape[1], 1))\n",
        "#Get the predicted scaled price\n",
        "pred_price = model.predict(X_test)\n",
        "#undo the scaling \n",
        "pred_price = scaler.inverse_transform(pred_price)\n",
        "print(pred_price)"
      ],
      "execution_count": 33,
      "outputs": [
        {
          "output_type": "stream",
          "text": [
            "[[400.5386]]\n"
          ],
          "name": "stdout"
        }
      ]
    },
    {
      "cell_type": "code",
      "metadata": {
        "id": "-D3QoAnv2_ot",
        "colab_type": "code",
        "colab": {}
      },
      "source": [
        ""
      ],
      "execution_count": 0,
      "outputs": []
    }
  ]
}